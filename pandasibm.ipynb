{
 "cells": [
  {
   "cell_type": "code",
   "execution_count": null,
   "metadata": {},
   "outputs": [],
   "source": [
    "##  Pandas DataFrame: Create from lists of values"
   ]
  },
  {
   "cell_type": "code",
   "execution_count": null,
   "metadata": {},
   "outputs": [],
   "source": [
    "import pandas as pd\n",
    "\n",
    "last_names = ['Connor', 'Connor', 'Reese']\n",
    "first_names = ['Sarah', 'John', 'Kyle']\n",
    "df = pd.DataFrame({\n",
    "  'first_name': first_names,\n",
    "  'last_name': last_names,\n",
    "})\n",
    "df"
   ]
  },
  {
   "cell_type": "code",
   "execution_count": null,
   "metadata": {},
   "outputs": [],
   "source": [
    "##Pandas DataFrame: Rename multiple Columns"
   ]
  },
  {
   "cell_type": "code",
   "execution_count": null,
   "metadata": {},
   "outputs": [],
   "source": [
    "import pandas as pd\n",
    "df = pd.DataFrame({\n",
    "  'first_name': ['Sarah', 'John', 'Kyle', 'Joe'],\n",
    "  'last_name': ['Connor', 'Connor', 'Reese', 'Bonnot'],\n",
    "})\n",
    "\n",
    "df[df.last_name.str.match('.*onno.*')]"
   ]
  },
  {
   "cell_type": "code",
   "execution_count": null,
   "metadata": {},
   "outputs": [],
   "source": [
    "##Pandas DataFrame: Query by variable value"
   ]
  },
  {
   "cell_type": "code",
   "execution_count": null,
   "metadata": {},
   "outputs": [],
   "source": [
    "#Evaluate a variable as the value to find.\n",
    "\n",
    "import pandas as pd\n",
    "df = pd.DataFrame({\n",
    "  'first_name': ['Sarah', 'John', 'Kyle'],\n",
    "  'last_name': ['Connor', 'Connor', 'Reese'],\n",
    "})\n",
    "\n",
    "foo = 'Connor'\n",
    "df.query('last_name == @foo')"
   ]
  },
  {
   "cell_type": "code",
   "execution_count": null,
   "metadata": {},
   "outputs": [],
   "source": [
    "#Pandas DataFrame: Query using variable value as a column name"
   ]
  },
  {
   "cell_type": "code",
   "execution_count": null,
   "metadata": {},
   "outputs": [],
   "source": [
    "###Evaluate a variable, to use its value as the name of a column in a query.\n",
    "\n",
    "#E.g. Query for rows where John is the value in the column named first_name.\n",
    "\n",
    "import pandas as pd\n",
    "df = pd.DataFrame(data={\n",
    "  'first_name': ['Sarah', 'John', 'Kyle'],\n",
    "  'last_name': ['Connor', 'Connor', 'Reese'],\n",
    "})\n",
    "\n",
    "column_name = 'first_name'\n",
    "df.query(f\"`{column_name}` == 'John'\")"
   ]
  },
  {
   "cell_type": "code",
   "execution_count": null,
   "metadata": {},
   "outputs": [],
   "source": [
    "##Pandas DataFrame: Query by Timestamp above a value\n",
    "\n",
    "import pandas as pd\n",
    "df = pd.DataFrame({\n",
    "  'time': ['2022-09-14 00:52:00-07:00', '2022-09-14 00:52:30-07:00', \n",
    "           '2022-09-14 01:52:30-07:00'],\n",
    "  'letter': ['A', 'B', 'C'],\n",
    "})\n",
    "df['time'] = pd.to_datetime(df.time)\n",
    "\n",
    "begin_ts = '2022-09-14 00:52:00-07:00'\n",
    "end_ts = '2022-09-14 00:54:00-07:00'\n",
    "\n",
    "df.query('@begin_ts <= time < @end_ts')"
   ]
  },
  {
   "cell_type": "code",
   "execution_count": null,
   "metadata": {},
   "outputs": [],
   "source": [
    "##Pandas DataFrame: Filter by Timestamp in DatetimeIndex using .loc[]"
   ]
  },
  {
   "cell_type": "code",
   "execution_count": null,
   "metadata": {},
   "outputs": [],
   "source": [
    "import pandas as pd\n",
    "df = pd.DataFrame({\n",
    "  'time': ['2022-09-14 00:52:00-07:00', '2022-09-14 00:52:30-07:00', \n",
    "           '2022-09-14 01:52:30-07:00'],\n",
    "  'letter': ['A', 'B', 'C'],\n",
    "})\n",
    "df['time'] = pd.to_datetime(df.time)\n",
    "df.set_index('time', inplace=True)\n",
    "\n",
    "df.loc['2022-09-14':'2022-09-14 00:53']"
   ]
  },
  {
   "cell_type": "code",
   "execution_count": null,
   "metadata": {},
   "outputs": [],
   "source": [
    "##Pandas DataFrame: Filter by Timestamp using TimeDelta string"
   ]
  },
  {
   "cell_type": "code",
   "execution_count": null,
   "metadata": {},
   "outputs": [],
   "source": [
    "import pandas as pd\n",
    "df = pd.DataFrame({\n",
    "  'time': ['2022-09-14 00:52:00-07:00', '2022-09-14 00:52:30-07:00', \n",
    "           '2022-09-14 01:52:30-07:00'],\n",
    "  'letter': ['A', 'B', 'C'],\n",
    "})\n",
    "df['time'] = pd.to_datetime(df.time)\n",
    "\n",
    "def rows_in_time_range(df, time_column, start_ts_str, timedelta_str):\n",
    "  # Return rows from df, where start_ts < time_column <= start_ts + delta.\n",
    "  # start_ts_str can be a date '2022-09-01' or a time '2022-09-14 00:52:00-07:00'\n",
    "  # timedelta_str examples: '2 minutes'  '2 days 2 hours 15 minutes 30 seconds'\n",
    "  start_ts = pd.Timestamp(start_ts_str).tz_localize('US/Pacific')\n",
    "  end_ts = start_ts + pd.to_timedelta(timedelta_str)\n",
    "  return df.query(\"@start_ts <= {0} < @end_ts\".format(time_column))\n",
    "\n",
    "rows_in_time_range(df, 'time', '2022-09-14 00:00', '52 minutes 31 seconds')"
   ]
  },
  {
   "cell_type": "code",
   "execution_count": null,
   "metadata": {},
   "outputs": [],
   "source": [
    "##Pandas: Describe Timestamp values in a column"
   ]
  },
  {
   "cell_type": "code",
   "execution_count": null,
   "metadata": {},
   "outputs": [],
   "source": [
    "import pandas as pd\n",
    "df = pd.DataFrame({\n",
    "  'time': ['2022-09-14 00:52:00-07:00', '2022-09-14 00:52:30-07:00', \n",
    "           '2022-09-14 01:52:30-07:00'],\n",
    "  'letter': ['A', 'B', 'C'],\n",
    "})\n",
    "df['time'] = pd.to_datetime(df.time)\n",
    "\n",
    "df['time'].describe(datetime_is_numeric=True)"
   ]
  },
  {
   "cell_type": "code",
   "execution_count": null,
   "metadata": {},
   "outputs": [],
   "source": [
    "###Pandas DataFrame: Explode a column containing dictionary values into multiple columns"
   ]
  },
  {
   "cell_type": "code",
   "execution_count": null,
   "metadata": {},
   "outputs": [],
   "source": [
    "##This code transforms or splits the dictionary column into many columns.\n",
    "\n",
    "#E.g. The output DataFrame of this cell will have columns named [date, letter, fruit, weather]."
   ]
  },
  {
   "cell_type": "code",
   "execution_count": null,
   "metadata": {},
   "outputs": [],
   "source": [
    "import pandas as pd\n",
    "df = pd.DataFrame({\n",
    "  'date': ['2022-09-14', '2022-09-15', '2022-09-16'],\n",
    "  'letter': ['A', 'B', 'C'],\n",
    "  'dict' : [{ 'fruit': 'apple', 'weather': 'aces'},\n",
    "            { 'fruit': 'banana', 'weather': 'bad'},\n",
    "            { 'fruit': 'cantaloupe', 'weather': 'cloudy'}],\n",
    "})\n",
    "\n",
    "pd.concat([df.drop(['dict'], axis=1), df['dict'].apply(pd.Series)], axis=1)"
   ]
  },
  {
   "cell_type": "code",
   "execution_count": null,
   "metadata": {},
   "outputs": [],
   "source": [
    "##Pandas DataFrame: Extract values using regexp (regular expression)"
   ]
  },
  {
   "cell_type": "code",
   "execution_count": null,
   "metadata": {},
   "outputs": [],
   "source": [
    "import pandas as pd\n",
    "df = pd.DataFrame({\n",
    "  'request': ['GET /index.html?baz=3', 'GET /foo.html?bar=1'],\n",
    "})\n",
    "\n",
    "df['request'].str.extract('GET /([^?]+)\\?', expand=True)"
   ]
  },
  {
   "cell_type": "code",
   "execution_count": null,
   "metadata": {},
   "outputs": [],
   "source": [
    "##Pandas Timestamp: Convert string to Timestamp, using date only"
   ]
  },
  {
   "cell_type": "code",
   "execution_count": null,
   "metadata": {},
   "outputs": [],
   "source": [
    "##I.e. Midnight on the given date.\n",
    "\n",
    "import pandas as pd\n",
    "\n",
    "pd.Timestamp('9/27/22').tz_localize('US/Pacific')"
   ]
  },
  {
   "cell_type": "code",
   "execution_count": null,
   "metadata": {},
   "outputs": [],
   "source": [
    "##Pandas Timestamp: Convert string to Timestamp"
   ]
  },
  {
   "cell_type": "code",
   "execution_count": null,
   "metadata": {},
   "outputs": [],
   "source": [
    "import pandas as pd\n",
    "\n",
    "pd.Timestamp('9/27/22 06:59').tz_localize('US/Pacific')"
   ]
  },
  {
   "cell_type": "code",
   "execution_count": null,
   "metadata": {},
   "outputs": [],
   "source": [
    "##Pandas: Create a TimeDelta using unit\n",
    "\n",
    "##From an integer. unit is a string, defaulting to ns. Possible values:\n",
    "\n",
    "import pandas as pd\n",
    "\n",
    "pd.to_timedelta(1, unit='h')\n"
   ]
  },
  {
   "cell_type": "code",
   "execution_count": null,
   "metadata": {},
   "outputs": [],
   "source": [
    "##Pandas: Create a TimeDelta using available kwargs"
   ]
  },
  {
   "cell_type": "code",
   "execution_count": null,
   "metadata": {},
   "outputs": [],
   "source": [
    "##Example keyworded args: {days, seconds, microseconds, milliseconds, minutes, hours, weeks}\n",
    "\n",
    "import pandas as pd\n",
    "\n",
    "pd.Timedelta(days=2)\n"
   ]
  },
  {
   "cell_type": "code",
   "execution_count": null,
   "metadata": {},
   "outputs": [],
   "source": [
    "##Pandas: Create a TimeDelta from a string"
   ]
  },
  {
   "cell_type": "code",
   "execution_count": null,
   "metadata": {},
   "outputs": [],
   "source": [
    "import pandas as pd\n",
    "\n",
    "pd.Timedelta('2 days 2 hours 15 minutes 30 seconds')"
   ]
  },
  {
   "cell_type": "code",
   "execution_count": null,
   "metadata": {},
   "outputs": [],
   "source": [
    "## Pandas: Replace NaN values in a Column"
   ]
  },
  {
   "cell_type": "code",
   "execution_count": null,
   "metadata": {},
   "outputs": [],
   "source": [
    "import numpy as np\n",
    "import pandas as pd\n",
    "df = pd.DataFrame({\n",
    "  'dogs': [5, 10, np.nan, 7],\n",
    "})\n",
    "\n",
    "df['dogs'].replace(np.nan, 0, regex=True)"
   ]
  },
  {
   "cell_type": "code",
   "execution_count": null,
   "metadata": {},
   "outputs": [],
   "source": [
    "## Pandas DataFrame: Drop duplicate rows"
   ]
  },
  {
   "cell_type": "code",
   "execution_count": null,
   "metadata": {},
   "outputs": [],
   "source": [
    "import pandas as pd\n",
    "df = pd.DataFrame({\n",
    "  'first_name': ['Sarah', 'John', 'Kyle', 'Joe'],\n",
    "  'last_name': ['Connor', 'Connor', 'Reese', 'Bonnot'],\n",
    "})\n",
    "df.set_index('last_name', inplace=True)\n",
    "\n",
    "df.loc[~df.index.duplicated(), :]"
   ]
  },
  {
   "cell_type": "code",
   "execution_count": null,
   "metadata": {},
   "outputs": [],
   "source": [
    "###Pandas DataFrame: Ignore one Column"
   ]
  },
  {
   "cell_type": "code",
   "execution_count": null,
   "metadata": {},
   "outputs": [],
   "source": [
    "import pandas as pd\n",
    "df = pd.DataFrame({\n",
    "  'first_name': ['Sarah', 'John', 'Kyle', 'Joe'],\n",
    "  'last_name': ['Connor', 'Connor', 'Reese', 'Bonnot'],\n",
    "})\n",
    "\n",
    "df.loc[:, df.columns!='last_name']"
   ]
  },
  {
   "cell_type": "code",
   "execution_count": null,
   "metadata": {},
   "outputs": [],
   "source": [
    "##Pandas DataFrame: Intersect Indexes"
   ]
  },
  {
   "cell_type": "code",
   "execution_count": null,
   "metadata": {},
   "outputs": [],
   "source": [
    "import pandas as pd\n",
    "terminator_df = pd.DataFrame({\n",
    "  'first_name': ['Sarah', 'John', 'Kyle'],\n",
    "  'last_name': ['Connor', 'Connor', 'Reese'],\n",
    "})\n",
    "terminator_df.set_index('first_name', inplace=True)\n",
    "\n",
    "buckaroo_df = pd.DataFrame({\n",
    "  'first_name': ['John', 'John', 'Buckaroo'],\n",
    "  'last_name': ['Parker', 'Whorfin', 'Banzai'],\n",
    "})\n",
    "buckaroo_df.set_index('first_name', inplace=True)\n",
    "\n",
    "terminator_df.index.intersection(buckaroo_df.index).shape"
   ]
  },
  {
   "cell_type": "code",
   "execution_count": null,
   "metadata": {},
   "outputs": [],
   "source": [
    "## Pandas DataFrame: Select all rows from A that are not in B, using the index"
   ]
  },
  {
   "cell_type": "code",
   "execution_count": null,
   "metadata": {},
   "outputs": [],
   "source": [
    "import pandas as pd\n",
    "terminator_df = pd.DataFrame({\n",
    "  'first_name': ['Sarah', 'John', 'Kyle'],\n",
    "  'last_name': ['Connor', 'Connor', 'Reese'],\n",
    "})\n",
    "terminator_df.set_index('first_name', inplace=True)\n",
    "\n",
    "buckaroo_df = pd.DataFrame({\n",
    "  'first_name': ['John', 'John', 'Buckaroo'],\n",
    "  'last_name': ['Parker', 'Whorfin', 'Banzai'],\n",
    "})\n",
    "buckaroo_df.set_index('first_name', inplace=True)\n",
    "\n",
    "terminator_df[~terminator_df.index.isin(buckaroo_df.index)]"
   ]
  },
  {
   "cell_type": "code",
   "execution_count": null,
   "metadata": {},
   "outputs": [],
   "source": [
    "## Pandas DataFrame: Select rows by an attribute of a column value"
   ]
  },
  {
   "cell_type": "code",
   "execution_count": null,
   "metadata": {},
   "outputs": [],
   "source": [
    "#Use the Series map() method. E.g. To filter by the length of a column values:\n",
    "\n",
    "import pandas as pd\n",
    "df = pd.DataFrame({\n",
    "  'first_name': ['Sarah', 'John', 'Kyle'],\n",
    "  'last_name': ['Connor', 'Connor', 'Reese'],\n",
    "})\n",
    "\n",
    "df[df['last_name'].map(len) == 5]"
   ]
  },
  {
   "cell_type": "code",
   "execution_count": null,
   "metadata": {},
   "outputs": [],
   "source": [
    "##Pandas DataFrame: Sort the count of rows grouped on columns"
   ]
  },
  {
   "cell_type": "code",
   "execution_count": null,
   "metadata": {},
   "outputs": [],
   "source": [
    "import pandas as pd\n",
    "df = pd.DataFrame({\n",
    "  'first_name': ['Sarah', 'John', 'Kyle'],\n",
    "  'last_name': ['Connor', 'Connor', 'Reese'],\n",
    "})\n",
    "\n",
    "df.groupby(['last_name']).size().sort_values(ascending=False)"
   ]
  },
  {
   "cell_type": "code",
   "execution_count": null,
   "metadata": {},
   "outputs": [],
   "source": [
    "##Pandas DataFrame: Reshape to have 1 row per value in a list column \n",
    "'''\n",
    "Creates a new DataFrame that is a transformed version of the input. E.g.\n",
    "\n",
    "Input: df with a column named msg_ids that is a list of values (i.e. many per row, at least in some rows).\n",
    "Output: new_df which has 1 row per unique value found in any of the original msg_ids lists, with that value in a new column named msg_id.'''\n"
   ]
  },
  {
   "cell_type": "code",
   "execution_count": null,
   "metadata": {},
   "outputs": [],
   "source": [
    "import pandas as pd\n",
    "df = pd.DataFrame({\n",
    "  'date': ['9/1/22', '9/2/22', '9/3/22'],\n",
    "  'action': ['Add', 'Update', 'Delete'],\n",
    "  'msg_ids': [[1, 2, 3], [], [2, 3]],\n",
    "})\n",
    "df.set_index('date', inplace=True)\n",
    "  \n",
    "  \n",
    "temp_series = df['msg_ids'].apply(pd.Series, 1).stack()\n",
    "temp_series.index = temp_series.index.droplevel(-1)\n",
    "temp_series.name = 'msg_id'\n",
    "new_df = temp_series.to_frame()\n",
    "new_df.set_index('msg_id', inplace=True)\n",
    "new_df.loc[~new_df.index.duplicated(), :] # Drop duplicates."
   ]
  },
  {
   "cell_type": "code",
   "execution_count": null,
   "metadata": {},
   "outputs": [],
   "source": [
    "## Pandas: DataFrames: Group Timeseries by Frequency"
   ]
  },
  {
   "cell_type": "code",
   "execution_count": null,
   "metadata": {},
   "outputs": [],
   "source": [
    "## You can group timestamped data into intervals of arbitrary duration using a Grouper object to specify groupby instructions. The freq parameter is a string that may contain an integer followed by an offset alias. E.g. To see output for 2 minute long intervals:"
   ]
  },
  {
   "cell_type": "code",
   "execution_count": null,
   "metadata": {},
   "outputs": [],
   "source": [
    "import pandas as pd\n",
    "df = pd.DataFrame({\n",
    "  'time': ['2022-09-01 00:00:01-07:00', '2022-09-01 00:00:02-07:00', \n",
    "           '2022-09-01 00:01:00-07:00', '2022-09-01 00:02:00-07:00',\n",
    "           '2022-09-01 00:03:00-07:00', '2022-09-01 00:04:00-07:00',\n",
    "           '2022-09-01 00:05:00-07:00', '2022-09-01 00:07:00-07:00'], \n",
    "  'requests': [1, 1, 1, 1, 1, 1, 1, 1],\n",
    "})\n",
    "df['time'] = pd.to_datetime(df.time)\n",
    "\n",
    "df.groupby(pd.Grouper(key='time', freq='2min')).sum()"
   ]
  },
  {
   "cell_type": "code",
   "execution_count": null,
   "metadata": {},
   "outputs": [],
   "source": []
  },
  {
   "cell_type": "code",
   "execution_count": null,
   "metadata": {},
   "outputs": [],
   "source": []
  },
  {
   "cell_type": "code",
   "execution_count": null,
   "metadata": {},
   "outputs": [],
   "source": []
  },
  {
   "cell_type": "code",
   "execution_count": null,
   "metadata": {},
   "outputs": [],
   "source": []
  },
  {
   "cell_type": "code",
   "execution_count": null,
   "metadata": {},
   "outputs": [],
   "source": []
  }
 ],
 "metadata": {
  "language_info": {
   "name": "python"
  }
 },
 "nbformat": 4,
 "nbformat_minor": 2
}
